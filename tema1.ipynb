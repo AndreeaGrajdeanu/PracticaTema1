{
 "cells": [
  {
   "cell_type": "markdown",
   "metadata": {},
   "source": [
    "Exercitiul 1: Suma numerelor pe fiecare linie"
   ]
  },
  {
   "cell_type": "code",
   "execution_count": 2,
   "metadata": {},
   "outputs": [
    {
     "name": "stdout",
     "output_type": "stream",
     "text": [
      "[[10.0, 15.0, 20.0, 30.0], [20.0, 25.0, 50.0, 80.0], [50.0, 54.0, 55.0, 70.0], [30.0, 35.0, 60.0, 13.0], [40.0, 45.0, 70.0, 30.0], [60.0, 66.0, 12.0, 17.0]]\n"
     ]
    }
   ],
   "source": [
    "#citim datele din fisier\n",
    "f = open('numbers.txt','r')\n",
    "\n",
    "def process_line(line):\n",
    "    return list(map(float,   str.split(line[:-1], ',')   ))\n",
    "    \n",
    "nums = [process_line(line) for line in f]\n",
    "print(nums)\n",
    "\n",
    "f.close()"
   ]
  },
  {
   "cell_type": "code",
   "execution_count": 4,
   "metadata": {},
   "outputs": [],
   "source": [
    "#facem o functie care va calcula suma pe linie\n",
    "\n",
    "def sumaLinie(index):\n",
    "    suma=0\n",
    "    for i in nums[index]:\n",
    "        suma+=i\n",
    "    return suma"
   ]
  },
  {
   "cell_type": "code",
   "execution_count": 6,
   "metadata": {},
   "outputs": [
    {
     "data": {
      "text/plain": [
       "[75.0, 175.0, 229.0, 138.0, 185.0, 155.0]"
      ]
     },
     "execution_count": 6,
     "metadata": {},
     "output_type": "execute_result"
    }
   ],
   "source": [
    "#punem intr-o lista sumele obtinute, lista va avea 'len(nums)' componenete\n",
    "lista_sume=[]\n",
    "for j in range(len(nums)):\n",
    "    lista_sume.append(sumaLinie(j))\n",
    "lista_sume"
   ]
  },
  {
   "cell_type": "markdown",
   "metadata": {},
   "source": [
    "Exercitiul 2: Suma tuturor numerelor"
   ]
  },
  {
   "cell_type": "code",
   "execution_count": 7,
   "metadata": {},
   "outputs": [
    {
     "data": {
      "text/plain": [
       "957.0"
      ]
     },
     "execution_count": 7,
     "metadata": {},
     "output_type": "execute_result"
    }
   ],
   "source": [
    "#metoda 1\n",
    "\n",
    "suma=0\n",
    "for i in range(len(nums)):\n",
    "    for j in nums[i]:\n",
    "        suma += j\n",
    "suma"
   ]
  },
  {
   "cell_type": "code",
   "execution_count": 8,
   "metadata": {},
   "outputs": [
    {
     "data": {
      "text/plain": [
       "957.0"
      ]
     },
     "execution_count": 8,
     "metadata": {},
     "output_type": "execute_result"
    }
   ],
   "source": [
    "#metoda 2\n",
    "\n",
    "sumatotala=0\n",
    "for i in range(len(nums)):\n",
    "    sumatotala += sumaLinie(i)\n",
    "\n",
    "sumatotala\n"
   ]
  },
  {
   "cell_type": "code",
   "execution_count": 9,
   "metadata": {},
   "outputs": [
    {
     "data": {
      "text/plain": [
       "957.0"
      ]
     },
     "execution_count": 9,
     "metadata": {},
     "output_type": "execute_result"
    }
   ],
   "source": [
    "#metoda 3, folosim lista cu sume de pe fiecare linie\n",
    "\n",
    "suma3=0\n",
    "for i in lista_sume:\n",
    "    suma3 += i\n",
    "suma3\n",
    "\n"
   ]
  },
  {
   "cell_type": "code",
   "execution_count": 36,
   "metadata": {},
   "outputs": [
    {
     "data": {
      "text/plain": [
       "957.0"
      ]
     },
     "execution_count": 36,
     "metadata": {},
     "output_type": "execute_result"
    }
   ],
   "source": [
    "#metoda 4 , folosim functia 'reduce'\n",
    "\n",
    "g= lambda x,y: x+y\n",
    "\n",
    "from functools import reduce\n",
    "sumaT=reduce(g,lista_sume)\n",
    "\n",
    "sumaT"
   ]
  },
  {
   "cell_type": "markdown",
   "metadata": {},
   "source": [
    "Exercitiul 3: Concatenarea listelor"
   ]
  },
  {
   "cell_type": "code",
   "execution_count": 12,
   "metadata": {},
   "outputs": [
    {
     "data": {
      "text/plain": [
       "[10.0,\n",
       " 15.0,\n",
       " 20.0,\n",
       " 30.0,\n",
       " 20.0,\n",
       " 25.0,\n",
       " 50.0,\n",
       " 80.0,\n",
       " 50.0,\n",
       " 54.0,\n",
       " 55.0,\n",
       " 70.0,\n",
       " 30.0,\n",
       " 35.0,\n",
       " 60.0,\n",
       " 13.0,\n",
       " 40.0,\n",
       " 45.0,\n",
       " 70.0,\n",
       " 30.0,\n",
       " 60.0,\n",
       " 66.0,\n",
       " 12.0,\n",
       " 17.0]"
      ]
     },
     "execution_count": 12,
     "metadata": {},
     "output_type": "execute_result"
    }
   ],
   "source": [
    "list_all=[]\n",
    "for j in range(len(nums)):\n",
    "    list_all +=nums[j]\n",
    "\n",
    "list_all"
   ]
  },
  {
   "cell_type": "code",
   "execution_count": 15,
   "metadata": {},
   "outputs": [
    {
     "data": {
      "text/plain": [
       "24"
      ]
     },
     "execution_count": 15,
     "metadata": {},
     "output_type": "execute_result"
    }
   ],
   "source": [
    "componente=len(list_all)\n",
    "componente"
   ]
  },
  {
   "cell_type": "markdown",
   "metadata": {},
   "source": [
    "Exercitiul 4: Numarul de componente din lista > 30.1"
   ]
  },
  {
   "cell_type": "code",
   "execution_count": 25,
   "metadata": {},
   "outputs": [
    {
     "name": "stdout",
     "output_type": "stream",
     "text": [
      "avem 13 numere mai mari decat 30.1\n"
     ]
    }
   ],
   "source": [
    "# vom folosi lista concatenata\n",
    "count=0\n",
    "for i in list_all:\n",
    "    if i>30.1:\n",
    "        count +=1;\n",
    "\n",
    "print('avem', count , 'numere mai mari decat 30.1')"
   ]
  },
  {
   "cell_type": "markdown",
   "metadata": {},
   "source": [
    "Exercitiul 5: Pentru fiecare numar natural de la 1 la 100, aratam cate numere sunt mai mici decat acestea"
   ]
  },
  {
   "cell_type": "code",
   "execution_count": 37,
   "metadata": {},
   "outputs": [],
   "source": [
    "list_numbers_100=[]\n",
    "for i in range(1,101):\n",
    "    list_numbers_100.append(i)"
   ]
  },
  {
   "cell_type": "code",
   "execution_count": 59,
   "metadata": {},
   "outputs": [
    {
     "name": "stdout",
     "output_type": "stream",
     "text": [
      "Sunt 0 numere mai mici decat 1\n",
      "Sunt 0 numere mai mici decat 2\n",
      "Sunt 0 numere mai mici decat 3\n",
      "Sunt 0 numere mai mici decat 4\n",
      "Sunt 0 numere mai mici decat 5\n",
      "Sunt 0 numere mai mici decat 6\n",
      "Sunt 0 numere mai mici decat 7\n",
      "Sunt 0 numere mai mici decat 8\n",
      "Sunt 0 numere mai mici decat 9\n",
      "Sunt 0 numere mai mici decat 10\n",
      "Sunt 1 numere mai mici decat 11\n",
      "Sunt 1 numere mai mici decat 12\n",
      "Sunt 2 numere mai mici decat 13\n",
      "Sunt 3 numere mai mici decat 14\n",
      "Sunt 3 numere mai mici decat 15\n",
      "Sunt 4 numere mai mici decat 16\n",
      "Sunt 4 numere mai mici decat 17\n",
      "Sunt 5 numere mai mici decat 18\n",
      "Sunt 5 numere mai mici decat 19\n",
      "Sunt 5 numere mai mici decat 20\n",
      "Sunt 7 numere mai mici decat 21\n",
      "Sunt 7 numere mai mici decat 22\n",
      "Sunt 7 numere mai mici decat 23\n",
      "Sunt 7 numere mai mici decat 24\n",
      "Sunt 7 numere mai mici decat 25\n",
      "Sunt 8 numere mai mici decat 26\n",
      "Sunt 8 numere mai mici decat 27\n",
      "Sunt 8 numere mai mici decat 28\n",
      "Sunt 8 numere mai mici decat 29\n",
      "Sunt 8 numere mai mici decat 30\n",
      "Sunt 11 numere mai mici decat 31\n",
      "Sunt 11 numere mai mici decat 32\n",
      "Sunt 11 numere mai mici decat 33\n",
      "Sunt 11 numere mai mici decat 34\n",
      "Sunt 11 numere mai mici decat 35\n",
      "Sunt 12 numere mai mici decat 36\n",
      "Sunt 12 numere mai mici decat 37\n",
      "Sunt 12 numere mai mici decat 38\n",
      "Sunt 12 numere mai mici decat 39\n",
      "Sunt 12 numere mai mici decat 40\n",
      "Sunt 13 numere mai mici decat 41\n",
      "Sunt 13 numere mai mici decat 42\n",
      "Sunt 13 numere mai mici decat 43\n",
      "Sunt 13 numere mai mici decat 44\n",
      "Sunt 13 numere mai mici decat 45\n",
      "Sunt 14 numere mai mici decat 46\n",
      "Sunt 14 numere mai mici decat 47\n",
      "Sunt 14 numere mai mici decat 48\n",
      "Sunt 14 numere mai mici decat 49\n",
      "Sunt 14 numere mai mici decat 50\n",
      "Sunt 16 numere mai mici decat 51\n",
      "Sunt 16 numere mai mici decat 52\n",
      "Sunt 16 numere mai mici decat 53\n",
      "Sunt 16 numere mai mici decat 54\n",
      "Sunt 17 numere mai mici decat 55\n",
      "Sunt 18 numere mai mici decat 56\n",
      "Sunt 18 numere mai mici decat 57\n",
      "Sunt 18 numere mai mici decat 58\n",
      "Sunt 18 numere mai mici decat 59\n",
      "Sunt 18 numere mai mici decat 60\n",
      "Sunt 20 numere mai mici decat 61\n",
      "Sunt 20 numere mai mici decat 62\n",
      "Sunt 20 numere mai mici decat 63\n",
      "Sunt 20 numere mai mici decat 64\n",
      "Sunt 20 numere mai mici decat 65\n",
      "Sunt 20 numere mai mici decat 66\n",
      "Sunt 21 numere mai mici decat 67\n",
      "Sunt 21 numere mai mici decat 68\n",
      "Sunt 21 numere mai mici decat 69\n",
      "Sunt 21 numere mai mici decat 70\n",
      "Sunt 23 numere mai mici decat 71\n",
      "Sunt 23 numere mai mici decat 72\n",
      "Sunt 23 numere mai mici decat 73\n",
      "Sunt 23 numere mai mici decat 74\n",
      "Sunt 23 numere mai mici decat 75\n",
      "Sunt 23 numere mai mici decat 76\n",
      "Sunt 23 numere mai mici decat 77\n",
      "Sunt 23 numere mai mici decat 78\n",
      "Sunt 23 numere mai mici decat 79\n",
      "Sunt 23 numere mai mici decat 80\n",
      "Sunt 24 numere mai mici decat 81\n",
      "Sunt 24 numere mai mici decat 82\n",
      "Sunt 24 numere mai mici decat 83\n",
      "Sunt 24 numere mai mici decat 84\n",
      "Sunt 24 numere mai mici decat 85\n",
      "Sunt 24 numere mai mici decat 86\n",
      "Sunt 24 numere mai mici decat 87\n",
      "Sunt 24 numere mai mici decat 88\n",
      "Sunt 24 numere mai mici decat 89\n",
      "Sunt 24 numere mai mici decat 90\n",
      "Sunt 24 numere mai mici decat 91\n",
      "Sunt 24 numere mai mici decat 92\n",
      "Sunt 24 numere mai mici decat 93\n",
      "Sunt 24 numere mai mici decat 94\n",
      "Sunt 24 numere mai mici decat 95\n",
      "Sunt 24 numere mai mici decat 96\n",
      "Sunt 24 numere mai mici decat 97\n",
      "Sunt 24 numere mai mici decat 98\n",
      "Sunt 24 numere mai mici decat 99\n",
      "Sunt 24 numere mai mici decat 100\n"
     ]
    }
   ],
   "source": [
    "#metoda 1: folosim functia 'filter'\n",
    "\n",
    "for i in range(1,101):\n",
    "    l=list(filter(lambda x: x < i ,list_all))\n",
    "    print('Sunt',len(l),'numere mai mici decat',i)"
   ]
  },
  {
   "cell_type": "code",
   "execution_count": null,
   "metadata": {},
   "outputs": [],
   "source": []
  }
 ],
 "metadata": {
  "kernelspec": {
   "display_name": "Python 3",
   "language": "python",
   "name": "python3"
  },
  "language_info": {
   "codemirror_mode": {
    "name": "ipython",
    "version": 3
   },
   "file_extension": ".py",
   "mimetype": "text/x-python",
   "name": "python",
   "nbconvert_exporter": "python",
   "pygments_lexer": "ipython3",
   "version": "3.7.4"
  }
 },
 "nbformat": 4,
 "nbformat_minor": 2
}
